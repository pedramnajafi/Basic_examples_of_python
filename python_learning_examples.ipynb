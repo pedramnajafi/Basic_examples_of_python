{
  "nbformat": 4,
  "nbformat_minor": 0,
  "metadata": {
    "colab": {
      "provenance": [],
      "authorship_tag": "ABX9TyOAH1V2aEnPczLv4DlQu335",
      "include_colab_link": true
    },
    "kernelspec": {
      "name": "python3",
      "display_name": "Python 3"
    },
    "language_info": {
      "name": "python"
    }
  },
  "cells": [
    {
      "cell_type": "markdown",
      "metadata": {
        "id": "view-in-github",
        "colab_type": "text"
      },
      "source": [
        "<a href=\"https://colab.research.google.com/github/pedramnajafi/Basic_examples_of_python/blob/main/python_learning_examples.ipynb\" target=\"_parent\"><img src=\"https://colab.research.google.com/assets/colab-badge.svg\" alt=\"Open In Colab\"/></a>"
      ]
    },
    {
      "cell_type": "code",
      "execution_count": null,
      "metadata": {
        "id": "LuqNKa3qJ8yj",
        "colab": {
          "base_uri": "https://localhost:8080/"
        },
        "outputId": "6da4bfae-e2e4-47ba-ffd2-bed09296d3f0"
      },
      "outputs": [
        {
          "output_type": "stream",
          "name": "stdout",
          "text": [
            "The perimeter of my first triangle is 13 and that of my second is 24\n",
            "Help on function calculatePerimeter in module __main__:\n",
            "\n",
            "calculatePerimeter(dimension1, dimension2, dimension3)\n",
            "\n"
          ]
        }
      ],
      "source": [
        "def calculatePerimeter(dimension1, dimension2, dimension3):\n",
        "    perimeter = dimension1 + dimension2 + dimension3\n",
        "    return perimeter\n",
        "\n",
        "perimeter1 = calculatePerimeter(6, 4, 3)\n",
        "perimeter2 = calculatePerimeter(10, 3, 11)\n",
        "\n",
        "print(\"The perimeter of my first triangle is\", perimeter1, \"and that of my second is\", perimeter2)\n",
        "\n",
        "\n",
        "help(calculatePerimeter)"
      ]
    },
    {
      "cell_type": "code",
      "source": [
        "a = 4\n",
        "def polynomial(a,b,c,x):\n",
        "  return a*x**2 + b*x + c\n",
        "\n",
        "b = a\n",
        "b *= a\n",
        "c = 1\n",
        "result = polynomial(a,b,c,0)\n",
        "a += 3\n",
        "a = 0\n",
        "\n",
        "print(\"result is : \", result)\n",
        "print(\"a is : \", a)\n",
        "print(\"b is : \", b)\n",
        "print(\"c is : \", c)"
      ],
      "metadata": {
        "colab": {
          "base_uri": "https://localhost:8080/"
        },
        "id": "RHzyB9crhBxO",
        "outputId": "186a4dc1-4591-4ecf-8b79-8daec65826f7"
      },
      "execution_count": null,
      "outputs": [
        {
          "output_type": "stream",
          "name": "stdout",
          "text": [
            "result is :  1\n",
            "a is :  0\n",
            "b is :  16\n",
            "c is :  1\n"
          ]
        }
      ]
    },
    {
      "cell_type": "code",
      "source": [
        "colors = [\"red\", \"yellow\", \"orange\", \"green\", \"blue\"]\n",
        "colors[3] = \"emerald\"\n",
        "print(colors)\n",
        "for color in colors :\n",
        "    print(color)"
      ],
      "metadata": {
        "colab": {
          "base_uri": "https://localhost:8080/"
        },
        "id": "JK3PyYxZhs36",
        "outputId": "268cbb16-d393-4257-a114-e92ed216f147"
      },
      "execution_count": null,
      "outputs": [
        {
          "output_type": "stream",
          "name": "stdout",
          "text": [
            "['red', 'yellow', 'orange', 'emerald', 'blue']\n",
            "red\n",
            "yellow\n",
            "orange\n",
            "emerald\n",
            "blue\n"
          ]
        }
      ]
    },
    {
      "cell_type": "code",
      "source": [
        "guests =[]\n",
        "guests.append(\"Joey\")\n",
        "guests.append(\"Martin\")\n",
        "guests.append(\"Mary\")\n",
        "print(guests)\n",
        "print(len(guests))\n",
        "guests[1] = \"John\"\n",
        "print(guests)\n",
        "guests.remove(\"Joey\")\n",
        "print(guests)\n",
        "for guest in guests:\n",
        "    print(guest)"
      ],
      "metadata": {
        "colab": {
          "base_uri": "https://localhost:8080/"
        },
        "id": "XYJKYTLhiOgY",
        "outputId": "14cd4f8d-5013-4c83-87f9-8af2f558b5f4"
      },
      "execution_count": null,
      "outputs": [
        {
          "output_type": "stream",
          "name": "stdout",
          "text": [
            "['Joey', 'Martin', 'Mary']\n",
            "3\n",
            "['Joey', 'John', 'Mary']\n",
            "['John', 'Mary']\n",
            "John\n",
            "Mary\n"
          ]
        }
      ]
    },
    {
      "cell_type": "code",
      "source": [
        "name = input('Please enter yourname, stranger')\n",
        "if len(name) > 0:\n",
        "  print(\"Hello \", name)\n",
        "else:\n",
        "  print(\"You did not give me your name\")\n",
        "\n",
        "\n"
      ],
      "metadata": {
        "colab": {
          "base_uri": "https://localhost:8080/"
        },
        "id": "N7lI2gQm-9X_",
        "outputId": "7cb8e57f-c1fd-4ed5-9d26-c5169f4aa56f"
      },
      "execution_count": null,
      "outputs": [
        {
          "output_type": "stream",
          "name": "stdout",
          "text": [
            "Please enter yourname, strangerPedram\n",
            "Hello  Pedram\n"
          ]
        }
      ]
    },
    {
      "cell_type": "code",
      "source": [
        "a = 5\n",
        "b = 10\n",
        "c = 7\n",
        "\n",
        "if c < a :\n",
        "    print(\"c is smaller than a\")\n",
        "    \n",
        "if c > b :\n",
        "    print(\"c is greater than b\")\n",
        "    \n",
        "if c > a and c < b:\n",
        "    print(\"c is between a and b\")\n",
        "\n",
        "if c < a :\n",
        "    print(\"c is smaller than a\")\n",
        "    \n",
        "elif c > b :\n",
        "    print(\"c is greater than b\")\n",
        "    \n",
        "else :\n",
        "    print(\"c is between a and b\")"
      ],
      "metadata": {
        "colab": {
          "base_uri": "https://localhost:8080/"
        },
        "id": "NN5QBgXkwtLh",
        "outputId": "38faa8e6-04c5-4d51-80d8-11e731d44210"
      },
      "execution_count": null,
      "outputs": [
        {
          "output_type": "stream",
          "name": "stdout",
          "text": [
            "c is between a and b\n",
            "c is between a and b\n"
          ]
        }
      ]
    },
    {
      "cell_type": "code",
      "source": [
        "number_of_trees = 0\n",
        "while number_of_trees < 10:\n",
        "  number_of_trees +=1\n",
        "  print(\"I planted \", number_of_trees, \" trees.\")\n",
        "\n",
        "print(\"I have a nice forest\")"
      ],
      "metadata": {
        "colab": {
          "base_uri": "https://localhost:8080/"
        },
        "id": "Y8xO5iSJ16vh",
        "outputId": "de9a7285-2901-4ca2-dadb-85f9684a973d"
      },
      "execution_count": null,
      "outputs": [
        {
          "output_type": "stream",
          "name": "stdout",
          "text": [
            "I planted  1  trees.\n",
            "I planted  2  trees.\n",
            "I planted  3  trees.\n",
            "I planted  4  trees.\n",
            "I planted  5  trees.\n",
            "I planted  6  trees.\n",
            "I planted  7  trees.\n",
            "I planted  8  trees.\n",
            "I planted  9  trees.\n",
            "I planted  10  trees.\n",
            "I have a nice forest\n"
          ]
        }
      ]
    },
    {
      "cell_type": "code",
      "source": [
        "for i in range(5):\n",
        "  print(\"OpenClassrooms is really great\")\n",
        "\n",
        "print(\"-----------\")\n",
        "print(\"-----------\")\n",
        "\n",
        "classrooms = 0\n",
        "while classrooms < 5 :\n",
        "  classrooms +=1\n",
        "  print(\"OpenClassrooms is really great\")"
      ],
      "metadata": {
        "colab": {
          "base_uri": "https://localhost:8080/"
        },
        "id": "_w7YWkUa4yPI",
        "outputId": "6b447e86-5982-4713-97a0-06fcf8409642"
      },
      "execution_count": null,
      "outputs": [
        {
          "output_type": "stream",
          "name": "stdout",
          "text": [
            "OpenClassrooms is really great\n",
            "OpenClassrooms is really great\n",
            "OpenClassrooms is really great\n",
            "OpenClassrooms is really great\n",
            "OpenClassrooms is really great\n",
            "-----------\n",
            "-----------\n",
            "OpenClassrooms is really great\n",
            "OpenClassrooms is really great\n",
            "OpenClassrooms is really great\n",
            "OpenClassrooms is really great\n",
            "OpenClassrooms is really great\n"
          ]
        }
      ]
    },
    {
      "cell_type": "code",
      "source": [
        "for i in range(0,10):\n",
        "  print(i)\n",
        "  if (i == 2) or (i == 5):\n",
        "    print(\"Special Case\")\n",
        "    continue\n",
        "  print(\" i != 2 & i != 5 \")"
      ],
      "metadata": {
        "colab": {
          "base_uri": "https://localhost:8080/"
        },
        "id": "0XUavwMF5cgF",
        "outputId": "c4a2e2a3-fe8c-42e2-b26e-7430a044e965"
      },
      "execution_count": null,
      "outputs": [
        {
          "output_type": "stream",
          "name": "stdout",
          "text": [
            "0\n",
            " i != 2 & i != 5 \n",
            "1\n",
            " i != 2 & i != 5 \n",
            "2\n",
            "Special Case\n",
            "3\n",
            " i != 2 & i != 5 \n",
            "4\n",
            " i != 2 & i != 5 \n",
            "5\n",
            "Special Case\n",
            "6\n",
            " i != 2 & i != 5 \n",
            "7\n",
            " i != 2 & i != 5 \n",
            "8\n",
            " i != 2 & i != 5 \n",
            "9\n",
            " i != 2 & i != 5 \n"
          ]
        }
      ]
    },
    {
      "cell_type": "code",
      "source": [
        "basket = [\"apple\", \"orange\", \"banana\"]\n",
        "\n",
        "for fruit in basket:\n",
        "  if fruit == \"orange\":\n",
        "    print(\"I have an orange\")\n",
        "    break"
      ],
      "metadata": {
        "colab": {
          "base_uri": "https://localhost:8080/"
        },
        "id": "9mUcEAdS8p4i",
        "outputId": "51805474-1c32-456e-950f-c8e9c8e85a11"
      },
      "execution_count": null,
      "outputs": [
        {
          "output_type": "stream",
          "name": "stdout",
          "text": [
            "I have an orange\n"
          ]
        }
      ]
    },
    {
      "cell_type": "code",
      "source": [
        "if 'bar' in {'foo': 1, 'bar': 2, 'baz': 3}:\n",
        "   print(1)\n",
        "   print(2)\n",
        "   if 'a' in 'qux':\n",
        "      print(3)\n",
        "print(4)"
      ],
      "metadata": {
        "colab": {
          "base_uri": "https://localhost:8080/"
        },
        "id": "_f7k_ZmsAczO",
        "outputId": "8f229b5f-4c17-43d9-b4e4-1f694a5fd8b7"
      },
      "execution_count": null,
      "outputs": [
        {
          "output_type": "stream",
          "name": "stdout",
          "text": [
            "1\n",
            "2\n",
            "4\n"
          ]
        }
      ]
    },
    {
      "cell_type": "code",
      "source": [
        "d = {'a': 0, 'b': 1, 'c': 0}\n",
        "\n",
        "if d['a'] > 0:\n",
        "   print('yeah!')\n",
        "elif d['b'] > 0:\n",
        "   print('yeah!')\n",
        "elif d['c'] > 0:\n",
        "   print('ok')\n",
        "elif d['d'] > 0:\n",
        "   print('ok')\n",
        "else:\n",
        "   print('not ok')"
      ],
      "metadata": {
        "colab": {
          "base_uri": "https://localhost:8080/"
        },
        "id": "6ymZALLzAoDd",
        "outputId": "bfac4525-3b8c-4472-f0e2-ae963669bc87"
      },
      "execution_count": null,
      "outputs": [
        {
          "output_type": "stream",
          "name": "stdout",
          "text": [
            "yeah!\n"
          ]
        }
      ]
    },
    {
      "cell_type": "code",
      "source": [
        "a = ['foo', 'bar', 'baz', 'qux', 'corge']\n",
        " \n",
        "while a:\n",
        "   if len(a) < 3:\n",
        "      break\n",
        "   print(a.pop())\n",
        "print('Done.')"
      ],
      "metadata": {
        "id": "7kmbw35GBBjf",
        "outputId": "720862bd-b0d7-4b60-8f10-6f4d1c8d6fce",
        "colab": {
          "base_uri": "https://localhost:8080/"
        }
      },
      "execution_count": null,
      "outputs": [
        {
          "output_type": "stream",
          "name": "stdout",
          "text": [
            "corge\n",
            "qux\n",
            "baz\n",
            "Done.\n"
          ]
        }
      ]
    }
  ]
}